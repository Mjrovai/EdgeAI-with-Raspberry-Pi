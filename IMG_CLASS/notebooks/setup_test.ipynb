{
 "cells": [
  {
   "cell_type": "code",
   "execution_count": 1,
   "id": "576c970a-0ec9-4be8-86d5-a77d5f99417e",
   "metadata": {},
   "outputs": [],
   "source": [
    "import tflite_runtime.interpreter as tflite\n",
    "import numpy as np\n",
    "from PIL import Image"
   ]
  },
  {
   "cell_type": "code",
   "execution_count": 4,
   "id": "e32ee236-fe88-4cb2-983f-9721acd13e9f",
   "metadata": {},
   "outputs": [
    {
     "name": "stdout",
     "output_type": "stream",
     "text": [
      "NumPy: 1.23.2\n",
      "Pillow: 10.4.0\n"
     ]
    }
   ],
   "source": [
    "print(\"NumPy:\", np.__version__)\n",
    "print(\"Pillow:\", Image.__version__)"
   ]
  },
  {
   "cell_type": "code",
   "execution_count": 5,
   "id": "98e49bdd-c710-45e8-a1e3-0275c356e2c9",
   "metadata": {},
   "outputs": [],
   "source": [
    "model_path = \"./models/mobilenet_v2_1.0_224_quant.tflite\""
   ]
  },
  {
   "cell_type": "code",
   "execution_count": 6,
   "id": "5c9f129a-afe2-480e-9c54-097fcf83c279",
   "metadata": {},
   "outputs": [
    {
     "name": "stdout",
     "output_type": "stream",
     "text": [
      "TFLite Interpreter created successfully!\n"
     ]
    }
   ],
   "source": [
    "# Try to create a TFLite Interpreter\n",
    "interpreter = tflite.Interpreter(model_path=model_path)\n",
    "interpreter.allocate_tensors()\n",
    "print(\"TFLite Interpreter created successfully!\")"
   ]
  },
  {
   "cell_type": "code",
   "execution_count": null,
   "id": "9019827f-49f2-4268-bc49-73a1ad08aae1",
   "metadata": {},
   "outputs": [],
   "source": []
  }
 ],
 "metadata": {
  "kernelspec": {
   "display_name": "Python 3 (ipykernel)",
   "language": "python",
   "name": "python3"
  },
  "language_info": {
   "codemirror_mode": {
    "name": "ipython",
    "version": 3
   },
   "file_extension": ".py",
   "mimetype": "text/x-python",
   "name": "python",
   "nbconvert_exporter": "python",
   "pygments_lexer": "ipython3",
   "version": "3.8.16"
  }
 },
 "nbformat": 4,
 "nbformat_minor": 5
}
