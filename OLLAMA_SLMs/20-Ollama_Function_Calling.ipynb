{
 "cells": [
  {
   "cell_type": "markdown",
   "id": "0c715667-bda7-4be1-8648-13d0e5c021a4",
   "metadata": {},
   "source": [
    "# Ollama Function Calling\n",
    "- By Marcelo Rovai @26Sept24"
   ]
  },
  {
   "cell_type": "markdown",
   "id": "558f4656-0492-499e-b62f-cbe006fe54bf",
   "metadata": {},
   "source": [
    "## Importing Libraries"
   ]
  },
  {
   "cell_type": "markdown",
   "id": "b2316d84-84bc-4813-b35a-25ca13e6a342",
   "metadata": {},
   "source": [
    "- **sys**: Provides access to system-specific parameters and functions. It's used to get command-line arguments.\n",
    "- **haversine**: A function from the haversine library that calculates the distance between two geographic points using the Haversine formula.\n",
    "- **openAI**: A module for interacting with the OpenAI API (although it's used in conjunction with a local setup, Ollama). Everything is off-line here.\n",
    "- **pydantic**: Provides data validation and settings management using Python-type annotations. It's used to define the structure of expected response data.\n",
    "- **instructor**: A module is used to patch the OpenAI client to work in a specific mode (likely related to structured data handling)."
   ]
  },
  {
   "cell_type": "code",
   "execution_count": 22,
   "id": "6c17529c-126b-41c8-98a3-153a478763f7",
   "metadata": {},
   "outputs": [],
   "source": [
    "import sys\n",
    "import time\n",
    "from haversine import haversine\n",
    "from openai import OpenAI\n",
    "from pydantic import BaseModel, Field\n",
    "import instructor"
   ]
  },
  {
   "cell_type": "markdown",
   "id": "8ddde1ef-3acc-450e-a3fa-35799b1a9edb",
   "metadata": {},
   "source": [
    "## Defining Input and Model"
   ]
  },
  {
   "cell_type": "markdown",
   "id": "5493921d-d676-43c1-840e-2208f0599cca",
   "metadata": {},
   "source": [
    "On a python string, it is possible get the country from command-line arguments"
   ]
  },
  {
   "cell_type": "raw",
   "id": "3a071a6a-fd0f-4ef2-b235-810b15990bbe",
   "metadata": {},
   "source": [
    "country = sys.argv[1]  "
   ]
  },
  {
   "cell_type": "markdown",
   "id": "c4ab2962-f7ff-48a5-a7d5-353096dd91c3",
   "metadata": {},
   "source": [
    "In this notebook, we should define the country name as a variable"
   ]
  },
  {
   "cell_type": "code",
   "execution_count": 2,
   "id": "1c5607dc-2a46-47a3-bd59-72644aa48965",
   "metadata": {},
   "outputs": [],
   "source": [
    "country = \"France\""
   ]
  },
  {
   "cell_type": "code",
   "execution_count": 34,
   "id": "b154b973-7338-483d-b72a-8d34a6e00389",
   "metadata": {},
   "outputs": [],
   "source": [
    "MODEL = 'phi3.5:3.8b'   # The name of the model to be used\n",
    "mylat = -33.33          # Latitude of Santiago de Chile\n",
    "mylon = -70.51          # Longitude of Santiago de Chile"
   ]
  },
  {
   "cell_type": "markdown",
   "id": "d5e2db21-f7f3-4f78-9648-8b13cc61096c",
   "metadata": {},
   "source": [
    "## Defining the Response Data Structure"
   ]
  },
  {
   "cell_type": "markdown",
   "id": "58e474ff-b3c0-41e8-8e04-af77cefee0bc",
   "metadata": {},
   "source": [
    "**CityCoord**: A Pydantic model that defines the expected structure of the response from the LLM. It expects three fields: city (name of the city), lat (latitude), and lon (longitude)."
   ]
  },
  {
   "cell_type": "code",
   "execution_count": 4,
   "id": "22bd0a2b-2e41-443c-b6ae-c843731600e9",
   "metadata": {},
   "outputs": [],
   "source": [
    "class CityCoord(BaseModel):\n",
    "    city: str = Field(..., description=\"Name of the city\")\n",
    "    lat: float = Field(..., description=\"Decimal Latitude of the city\")\n",
    "    lon: float = Field(..., description=\"Decimal Longitude of the city\")"
   ]
  },
  {
   "cell_type": "markdown",
   "id": "7e4e0586-de9f-47f0-905a-b4223e6ef8ef",
   "metadata": {},
   "source": [
    "## Setting Up the OpenAI Client"
   ]
  },
  {
   "cell_type": "code",
   "execution_count": 5,
   "id": "ab21e21c-2a8d-43e8-ac47-e66f7bb9efc9",
   "metadata": {},
   "outputs": [],
   "source": [
    "client = instructor.patch(\n",
    "    OpenAI(\n",
    "        base_url=\"http://localhost:11434/v1\",  # Local API base URL (Ollama)\n",
    "        api_key=\"ollama\",                      # API key (not used)\n",
    "    ),\n",
    "    mode=instructor.Mode.JSON,                 # Mode for structured JSON output\n",
    ")"
   ]
  },
  {
   "cell_type": "markdown",
   "id": "2bc14fb5-7cb1-475f-a075-0b550d053c49",
   "metadata": {},
   "source": [
    "## Generating the Response"
   ]
  },
  {
   "cell_type": "code",
   "execution_count": 6,
   "id": "abd55ff8-bbda-45b6-9a3a-1f5b07f07c43",
   "metadata": {},
   "outputs": [],
   "source": [
    "resp = client.chat.completions.create(\n",
    "    model=MODEL,\n",
    "    messages=[\n",
    "        {\n",
    "            \"role\": \"user\",\n",
    "            \"content\": f\"return the decimal latitude and decimal longitude of the capital of the {country}.\"\n",
    "        }\n",
    "    ],\n",
    "    response_model=CityCoord,\n",
    "    max_retries=10\n",
    ")"
   ]
  },
  {
   "cell_type": "code",
   "execution_count": 7,
   "id": "4c4039df-b072-4b25-a598-3a463684062d",
   "metadata": {},
   "outputs": [
    {
     "data": {
      "text/plain": [
       "CityCoord(city='Paris', lat=48.864716, lon=2.335182)"
      ]
     },
     "execution_count": 7,
     "metadata": {},
     "output_type": "execute_result"
    }
   ],
   "source": [
    "resp"
   ]
  },
  {
   "cell_type": "code",
   "execution_count": 8,
   "id": "160cd6f9-f571-47b2-8f15-e6e2ed0d1179",
   "metadata": {},
   "outputs": [
    {
     "data": {
      "text/plain": [
       "('Paris', 48.864716, 2.335182)"
      ]
     },
     "execution_count": 8,
     "metadata": {},
     "output_type": "execute_result"
    }
   ],
   "source": [
    "resp.city, resp.lat, resp.lon"
   ]
  },
  {
   "cell_type": "markdown",
   "id": "b2733bd8-5c13-46bc-a2c7-13970e6209fe",
   "metadata": {},
   "source": [
    "## Calculating the Distance"
   ]
  },
  {
   "cell_type": "code",
   "execution_count": 9,
   "id": "4793d04c-8828-46cc-a895-863c882c4335",
   "metadata": {},
   "outputs": [
    {
     "data": {
      "text/plain": [
       "11628.656266429276"
      ]
     },
     "execution_count": 9,
     "metadata": {},
     "output_type": "execute_result"
    }
   ],
   "source": [
    "distance = haversine((mylat, mylon), (resp.lat, resp.lon), unit='km')\n",
    "distance"
   ]
  },
  {
   "cell_type": "code",
   "execution_count": 10,
   "id": "82c8cfc3-daaf-4ad5-926a-dbe4d961ec8c",
   "metadata": {},
   "outputs": [
    {
     "name": "stdout",
     "output_type": "stream",
     "text": [
      "Santiago de Chile is about 11,630 kilometers away from Paris.\n"
     ]
    }
   ],
   "source": [
    "print(f\"Santiago de Chile is about {int(round(distance, -1)):,} kilometers away from {resp.city}.\")"
   ]
  },
  {
   "cell_type": "markdown",
   "id": "cd1e5132-62bf-45dc-ab9d-d38f4df76974",
   "metadata": {},
   "source": [
    "## Creating a function"
   ]
  },
  {
   "cell_type": "code",
   "execution_count": 27,
   "id": "258682d8-a51c-4f1c-8bff-a16505dd6c83",
   "metadata": {},
   "outputs": [],
   "source": [
    "def calc_dist(country, model=MODEL):\n",
    "    \n",
    "    start_time = time.perf_counter()  # Start timing\n",
    "\n",
    "    class CityCoord(BaseModel):\n",
    "        city: str = Field(..., description=\"Name of the city\")\n",
    "        lat: float = Field(..., description=\"Decimal Latitude of the city\")\n",
    "        lon: float = Field(..., description=\"Decimal Longitude of the city\")\n",
    "\n",
    "    client = instructor.patch(\n",
    "        OpenAI(\n",
    "            base_url=\"http://localhost:11434/v1\",  # Local API base URL (Ollama)\n",
    "            api_key=\"ollama\",                      # API key (not used)\n",
    "        ),\n",
    "        mode=instructor.Mode.JSON,                 # Mode for structured JSON output\n",
    ")\n",
    "    \n",
    "    resp = client.chat.completions.create(\n",
    "    model=model,\n",
    "    messages=[\n",
    "        {\n",
    "            \"role\": \"user\",\n",
    "            \"content\": f\"return the decimal latitude and decimal longitude of the capital of the {country}.\"\n",
    "        }\n",
    "    ],\n",
    "    response_model=CityCoord,\n",
    "    max_retries=10\n",
    "    )\n",
    "\n",
    "    distance = haversine((mylat, mylon), (resp.lat, resp.lon), unit='km')\n",
    "    \n",
    "    end_time = time.perf_counter()  # End timing\n",
    "    elapsed_time = end_time - start_time  # Calculate elapsed time\n",
    "    \n",
    "    print(f\"Santiago de Chile is about {int(round(distance, -1)):,} kilometers away from {resp.city}. [INFO] ==> {MODEL}): {elapsed_time:.1f} s\")\n"
   ]
  },
  {
   "cell_type": "code",
   "execution_count": 35,
   "id": "66776f76-cbed-472d-a987-76a1b6c9b1a3",
   "metadata": {},
   "outputs": [
    {
     "name": "stdout",
     "output_type": "stream",
     "text": [
      "Santiago de Chile is about 11,630 kilometers away from Paris. [INFO] ==> phi3.5:3.8b): 23.6 s\n"
     ]
    }
   ],
   "source": [
    "calc_dist('france', model=MODEL)"
   ]
  },
  {
   "cell_type": "code",
   "execution_count": 29,
   "id": "40c6d90a-177b-493a-a9d4-e462cbad3b1e",
   "metadata": {},
   "outputs": [
    {
     "name": "stdout",
     "output_type": "stream",
     "text": [
      "Santiago de Chile is about 4,240 kilometers away from Bogotá. [INFO] ==> phi3.5:3.8b): 16.2 s\n"
     ]
    }
   ],
   "source": [
    "calc_dist('colombia')"
   ]
  },
  {
   "cell_type": "code",
   "execution_count": 30,
   "id": "6d093b26-dde1-4d34-a88d-4039e262cf2c",
   "metadata": {},
   "outputs": [
    {
     "name": "stdout",
     "output_type": "stream",
     "text": [
      "Santiago de Chile is about 8,060 kilometers away from Washington, D.C.. [INFO] ==> phi3.5:3.8b): 16.5 s\n"
     ]
    }
   ],
   "source": [
    "calc_dist('united states')"
   ]
  },
  {
   "cell_type": "markdown",
   "id": "11ebdb2a-c3ac-4f6c-8b0b-a52522c3f546",
   "metadata": {},
   "source": [
    "### Using Llama3.2:3B"
   ]
  },
  {
   "cell_type": "code",
   "execution_count": 31,
   "id": "b4618c0e-b6b4-4749-bc98-974049575a7b",
   "metadata": {},
   "outputs": [
    {
     "name": "stdout",
     "output_type": "stream",
     "text": [
      "Santiago de Chile is about 11,630 kilometers away from Paris. [INFO] ==> llama3.2:3B): 20.9 s\n",
      "Santiago de Chile is about 4,250 kilometers away from Bogota. [INFO] ==> llama3.2:3B): 21.6 s\n",
      "Santiago de Chile is about 8,060 kilometers away from Washington. [INFO] ==> llama3.2:3B): 17.4 s\n"
     ]
    }
   ],
   "source": [
    "MODEL = 'llama3.2:3B'\n",
    "calc_dist('france')\n",
    "calc_dist('colombia')\n",
    "calc_dist('united states')"
   ]
  },
  {
   "cell_type": "markdown",
   "id": "5a02ce75-115d-4087-98e6-a8d3a5639973",
   "metadata": {},
   "source": [
    "### Using Llama3.2:1B"
   ]
  },
  {
   "cell_type": "code",
   "execution_count": 32,
   "id": "71473917-aab9-4d92-932f-13b2ec25f20b",
   "metadata": {},
   "outputs": [
    {
     "name": "stdout",
     "output_type": "stream",
     "text": [
      "Santiago de Chile is about 11,630 kilometers away from Paris. [INFO] ==> llama3.2:1B): 16.4 s\n",
      "Santiago de Chile is about 4,250 kilometers away from Bogota. [INFO] ==> llama3.2:1B): 17.0 s\n",
      "Santiago de Chile is about 8,060 kilometers away from Washington D.C.. [INFO] ==> llama3.2:1B): 16.7 s\n"
     ]
    }
   ],
   "source": [
    "MODEL = 'llama3.2:1B'\n",
    "calc_dist('france')\n",
    "calc_dist('colombia')\n",
    "calc_dist('united states')"
   ]
  },
  {
   "cell_type": "markdown",
   "id": "d843882c-05fe-4ca6-88d5-c5bd5f365d83",
   "metadata": {},
   "source": [
    "### Using gemma2:2b"
   ]
  },
  {
   "cell_type": "code",
   "execution_count": 33,
   "id": "7689e889-8113-41d8-9874-01a57d2cf9b8",
   "metadata": {},
   "outputs": [
    {
     "name": "stdout",
     "output_type": "stream",
     "text": [
      "Santiago de Chile is about 11,630 kilometers away from Paris. [INFO] ==> gemma2:2b): 22.0 s\n",
      "Santiago de Chile is about 4,240 kilometers away from Bogota. [INFO] ==> gemma2:2b): 22.3 s\n",
      "Santiago de Chile is about 8,060 kilometers away from Washington D.C.. [INFO] ==> gemma2:2b): 17.5 s\n"
     ]
    }
   ],
   "source": [
    "MODEL = 'gemma2:2b'\n",
    "calc_dist('france')\n",
    "calc_dist('colombia')\n",
    "calc_dist('united states')"
   ]
  },
  {
   "cell_type": "code",
   "execution_count": null,
   "id": "fcb123e3-5cb8-4e0d-824b-158de0400f25",
   "metadata": {},
   "outputs": [],
   "source": []
  }
 ],
 "metadata": {
  "kernelspec": {
   "display_name": "Python 3 (ipykernel)",
   "language": "python",
   "name": "python3"
  },
  "language_info": {
   "codemirror_mode": {
    "name": "ipython",
    "version": 3
   },
   "file_extension": ".py",
   "mimetype": "text/x-python",
   "name": "python",
   "nbconvert_exporter": "python",
   "pygments_lexer": "ipython3",
   "version": "3.11.2"
  }
 },
 "nbformat": 4,
 "nbformat_minor": 5
}
