{
 "cells": [
  {
   "cell_type": "markdown",
   "id": "ab2a82d9-9d3e-49bc-b960-8116843dc840",
   "metadata": {},
   "source": [
    "# RAG Simple (Bee)\n",
    "- By Marcelo Rovai @28Sept24"
   ]
  },
  {
   "cell_type": "markdown",
   "id": "7bf1fb50-b231-44cb-8117-f26540accf76",
   "metadata": {},
   "source": [
    "## Import the Libraries"
   ]
  },
  {
   "cell_type": "code",
   "execution_count": 19,
   "id": "59e22492-ec81-4d93-8fee-2f65ec4900f2",
   "metadata": {},
   "outputs": [],
   "source": [
    "import ollama\n",
    "import chromadb\n",
    "import time"
   ]
  },
  {
   "cell_type": "markdown",
   "id": "e3a870fa-a2f6-4064-ba6d-611a6ba4942a",
   "metadata": {},
   "source": [
    "### Define the models"
   ]
  },
  {
   "cell_type": "code",
   "execution_count": 21,
   "id": "bc076061-40d5-42c0-ac49-8fb4fa4ad155",
   "metadata": {},
   "outputs": [],
   "source": [
    "#start_time = time.perf_counter()  # Start timing\n",
    "EMB_MODEL = \"nomic-embed-text\" #\"mxbai-embed-large\" #\"all-minilm\" \n",
    "MODEL = \"llama3.2:3b\""
   ]
  },
  {
   "cell_type": "markdown",
   "id": "31ea6476-5ee7-49e4-9c72-ef344eb6f857",
   "metadata": {},
   "source": [
    "### Enter with the Document"
   ]
  },
  {
   "cell_type": "code",
   "execution_count": 4,
   "id": "2ec3e94c-1e70-4525-b605-ba32d096f981",
   "metadata": {},
   "outputs": [],
   "source": [
    "documents = [\n",
    "    \"Bee-keeping, also known as apiculture, involves the maintenance of bee colonies, typically in hives, by humans.\",\n",
    "    \"The most commonly kept species of bees is the European honey bee (Apis mellifera).\",\n",
    "    \"Bee-keeping dates back to at least 4,500 years ago, with evidence of ancient Egyptians practicing it.\",\n",
    "    \"A beekeeper's primary role is to manage hives to ensure the health of the bee colony and maximize honey production.\",\n",
    "    \"Honey bees are social insects, living in colonies with a single queen, numerous worker bees, and drones.\",\n",
    "    \"The queen bee can lay up to 2,000 eggs per day during peak seasons.\",\n",
    "    \"Worker bees are female and perform all the tasks in the hive except for reproduction.\",\n",
    "    \"Drones are male bees whose primary role is to mate with a queen from another hive.\",\n",
    "    \"Honey bees communicate with each other through the 'waggle dance,' which indicates the direction and distance to food sources.\",\n",
    "    \"Bees produce honey from the nectar they collect from flowers, which they store in the hive for food during winter.\",\n",
    "    \"Bees also produce beeswax, which they use to build the honeycomb structure in the hive.\",\n",
    "    \"Propolis, another bee product, is a resin-like substance collected from tree buds and used to seal gaps in the hive.\",\n",
    "    \"Bees play a crucial role in pollination, which is essential for the reproduction of many plants and crops.\",\n",
    "    \"A typical bee colony can contain between 20,000 and 80,000 bees.\",\n",
    "    \"Bee-keeping can be done for various purposes, including honey production, pollination services, and the sale of bees and related products.\",\n",
    "    \"Beekeepers must inspect their hives regularly to check for diseases, pests, and the overall health of the colony.\",\n",
    "    \"Common pests and diseases that affect bees include varroa mites, hive beetles, and foulbrood.\",\n",
    "    \"Bee-keeping requires protective clothing and equipment, such as a bee suit, gloves, and a smoker to calm the bees.\",\n",
    "    \"Sustainable bee-keeping practices are important for maintaining healthy bee populations and ecosystems.\",\n",
    "    \"Beekeeping can be a hobby, a part-time occupation, or a full-time profession, depending on the scale and intent of the beekeeper.\",\n",
    "    \"Almost all the honey we consume comes from western honey bees (Apis mellifera), a hybrid of European and African species.\", \n",
    "    \"There are another 20,000 different bee species in the world.\",  \n",
    "    \"Brazil alone has more than 300 different bee species, and the vast majority, unlike western honey bees, don’t sting.\", \n",
    "    \"Reports written in 1577 by Hans Staden, mention three native bees used by indigenous people in Brazil.\",\n",
    "    \"The indigenous people in Brazil used bees for medicine and food purposes\",\n",
    "    \"From Hans Staden report: probable species: mandaçaia (Melipona quadrifasciata), mandaguari (Scaptotrigona postica) and jataí-amarela (Tetragonisca angustula).\"\n",
    "]"
   ]
  },
  {
   "cell_type": "markdown",
   "id": "93db2d71-8312-47b9-9c21-6a2166ef4794",
   "metadata": {},
   "source": [
    "### Create our vector embedding database  `bee_facts` and store the document in it:"
   ]
  },
  {
   "cell_type": "code",
   "execution_count": 5,
   "id": "41c20cef-7d95-4cef-a29e-4e57dda36f55",
   "metadata": {},
   "outputs": [],
   "source": [
    "client = chromadb.Client()\n",
    "collection = client.create_collection(name=\"bee_facts\")\n",
    "\n",
    "# store each document in a vector embedding database\n",
    "for i, d in enumerate(documents):\n",
    "  response = ollama.embeddings(model=EMB_MODEL, prompt=d)\n",
    "  embedding = response[\"embedding\"]\n",
    "  collection.add(\n",
    "    ids=[str(i)],\n",
    "    embeddings=[embedding],\n",
    "    documents=[d]\n",
    "  )"
   ]
  },
  {
   "cell_type": "code",
   "execution_count": 9,
   "id": "2bb77f95-4677-4b60-96f7-217968f159c6",
   "metadata": {},
   "outputs": [
    {
     "data": {
      "text/plain": [
       "768"
      ]
     },
     "execution_count": 9,
     "metadata": {},
     "output_type": "execute_result"
    }
   ],
   "source": [
    "len(embedding)"
   ]
  },
  {
   "cell_type": "code",
   "execution_count": 35,
   "id": "cb2ccd04-9e2b-4784-ae39-ce3c0da52c6d",
   "metadata": {},
   "outputs": [],
   "source": [
    "# print(embedding)"
   ]
  },
  {
   "cell_type": "code",
   "execution_count": 10,
   "id": "d05f40b9-d2e2-4922-a351-37a4e2c09b97",
   "metadata": {},
   "outputs": [
    {
     "data": {
      "text/plain": [
       "26"
      ]
     },
     "execution_count": 10,
     "metadata": {},
     "output_type": "execute_result"
    }
   ],
   "source": [
    "len(documents)"
   ]
  },
  {
   "cell_type": "code",
   "execution_count": 13,
   "id": "c1c934ed-6903-47d1-8b43-794573ecd6ce",
   "metadata": {},
   "outputs": [
    {
     "data": {
      "text/plain": [
       "'Bee-keeping, also known as apiculture, involves the maintenance of bee colonies, typically in hives, by humans.'"
      ]
     },
     "execution_count": 13,
     "metadata": {},
     "output_type": "execute_result"
    }
   ],
   "source": [
    "documents[0]"
   ]
  },
  {
   "cell_type": "markdown",
   "id": "7eba57a6-fcc2-4b3d-860f-8b175994f644",
   "metadata": {},
   "source": [
    "### Retrieve the most relevant document given a prompt:"
   ]
  },
  {
   "cell_type": "code",
   "execution_count": 14,
   "id": "1d27e31e-bc5f-4e96-8027-a25c00897acf",
   "metadata": {},
   "outputs": [],
   "source": [
    "# Prompt\n",
    "prompt = \"How many bees are in a colony? Who lays eggs and how much? How about \\\n",
    "          common pests and diseases?\""
   ]
  },
  {
   "cell_type": "code",
   "execution_count": 15,
   "id": "dfe61dfe-8d90-4167-ba9f-17a52ad7ad15",
   "metadata": {},
   "outputs": [],
   "source": [
    "# generate an embedding for the prompt and retrieve the most relevant doc\n",
    "response = ollama.embeddings(\n",
    "  prompt=prompt,\n",
    "  model=EMB_MODEL\n",
    ")"
   ]
  },
  {
   "cell_type": "code",
   "execution_count": 16,
   "id": "2b21251d-c83e-410e-8d49-efb6187f238f",
   "metadata": {},
   "outputs": [],
   "source": [
    "results = collection.query(\n",
    "  query_embeddings=[response[\"embedding\"]],\n",
    "  n_results=5\n",
    ")\n",
    "data = results['documents']"
   ]
  },
  {
   "cell_type": "code",
   "execution_count": 17,
   "id": "b8780624-247a-4514-8a87-6af2fc53fe97",
   "metadata": {},
   "outputs": [
    {
     "data": {
      "text/plain": [
       "[['A typical bee colony can contain between 20,000 and 80,000 bees.',\n",
       "  'Beekeepers must inspect their hives regularly to check for diseases, pests, and the overall health of the colony.',\n",
       "  'Common pests and diseases that affect bees include varroa mites, hive beetles, and foulbrood.',\n",
       "  'Honey bees are social insects, living in colonies with a single queen, numerous worker bees, and drones.',\n",
       "  'The queen bee can lay up to 2,000 eggs per day during peak seasons.']]"
      ]
     },
     "execution_count": 17,
     "metadata": {},
     "output_type": "execute_result"
    }
   ],
   "source": [
    "data"
   ]
  },
  {
   "cell_type": "markdown",
   "id": "ea484d67-ff3f-447a-b67e-1bd212acc7cc",
   "metadata": {},
   "source": [
    "### Using the prompt and the document retrieved to generate an answer!"
   ]
  },
  {
   "cell_type": "code",
   "execution_count": 22,
   "id": "31dd5f45-cb1a-408d-b79c-5b0301fb9ee8",
   "metadata": {},
   "outputs": [],
   "source": [
    "# generate a response combining the prompt and data we retrieved in step 2\n",
    "output = ollama.generate(\n",
    "  model=MODEL,\n",
    "  prompt=f\"Using this data: {data}. Respond to this prompt: {prompt}\",\n",
    "  options={\n",
    "    \"temperature\": 0.0,\n",
    "    \"top_k\":10,\n",
    "    \"top_p\":0.5                          }\n",
    ")"
   ]
  },
  {
   "cell_type": "code",
   "execution_count": 24,
   "id": "dbf756ec-2f8e-42fc-ac92-5872e2fc53f2",
   "metadata": {},
   "outputs": [
    {
     "name": "stdout",
     "output_type": "stream",
     "text": [
      "Based on the provided data, here are the answers to your questions:\n",
      "\n",
      "1. How many bees are in a colony?\n",
      "A typical bee colony can contain between 20,000 and 80,000 bees.\n",
      "\n",
      "2. Who lays eggs and how much?\n",
      "The queen bee lays up to 2,000 eggs per day during peak seasons.\n",
      "\n",
      "3. What about common pests and diseases?\n",
      "Common pests and diseases that affect bees include varroa mites, hive beetles, and foulbrood.\n"
     ]
    }
   ],
   "source": [
    "print(output['response'])"
   ]
  },
  {
   "cell_type": "markdown",
   "id": "82d5073b-340e-4930-8104-3fea11f73ec0",
   "metadata": {},
   "source": [
    "### More Examples"
   ]
  },
  {
   "cell_type": "code",
   "execution_count": 27,
   "id": "172ed030-42e2-4e71-b876-22fad2da16d3",
   "metadata": {},
   "outputs": [],
   "source": [
    "def rag_bees(prompt):\n",
    "    start_time = time.perf_counter()  # Start timing\n",
    "    \n",
    "    # generate an embedding for the prompt and retrieve the most relevant doc (data)\n",
    "    response = ollama.embeddings(\n",
    "      prompt=prompt,\n",
    "      model=EMB_MODEL\n",
    "    )\n",
    "    \n",
    "    results = collection.query(\n",
    "      query_embeddings=[response[\"embedding\"]],\n",
    "      n_results=5\n",
    "    )\n",
    "    data = results['documents']\n",
    "    \n",
    "    # generate a response combining the prompt and data retrieved\n",
    "    output = ollama.generate(\n",
    "      model=MODEL,\n",
    "      prompt=f\"Using this data: {data}. Respond to this prompt: {prompt}\",\n",
    "      options={\n",
    "        \"temperature\": 0.0,\n",
    "        \"top_k\":10,\n",
    "        \"top_p\":0.5                          }\n",
    "    )\n",
    "    \n",
    "    print(output['response'])\n",
    "    \n",
    "    end_time = time.perf_counter()  # End timing\n",
    "    elapsed_time = round((end_time - start_time), 1)  # Calculate elapsed time\n",
    "    \n",
    "    print(f\"\\n [INFO] ==> The code for model: {MODEL}, took {elapsed_time}s to generate the answer.\\n\")"
   ]
  },
  {
   "cell_type": "code",
   "execution_count": 32,
   "id": "5708b08a-317b-4115-9b2a-fd0ef737da39",
   "metadata": {},
   "outputs": [],
   "source": [
    "def rag_bees(prompt, n_results=5, temp=0.0, top_k=10, top_p=0.5):\n",
    "    start_time = time.perf_counter()  # Start timing\n",
    "    \n",
    "    # generate an embedding for the prompt and retrieve the data \n",
    "    response = ollama.embeddings(\n",
    "      prompt=prompt,\n",
    "      model=EMB_MODEL\n",
    "    )\n",
    "    \n",
    "    results = collection.query(\n",
    "      query_embeddings=[response[\"embedding\"]],\n",
    "      n_results=n_results\n",
    "    )\n",
    "    data = results['documents']\n",
    "    \n",
    "    # generate a response combining the prompt and data retrieved\n",
    "    output = ollama.generate(\n",
    "      model=MODEL,\n",
    "      prompt=f\"Using this data: {data}. Respond to this prompt: {prompt}\",\n",
    "      options={\n",
    "        \"temperature\": temp,\n",
    "        \"top_k\": top_k,\n",
    "        \"top_p\": top_p                          }\n",
    "    )\n",
    "    \n",
    "    print(output['response'])\n",
    "    \n",
    "    end_time = time.perf_counter()  # End timing\n",
    "    elapsed_time = round((end_time - start_time), 1)  # Calculate elapsed time\n",
    "    \n",
    "    print(f\"\\n [INFO] ==> The code for model: {MODEL}, took {elapsed_time}s \\\n",
    "          to generate the answer.\\n\")"
   ]
  },
  {
   "cell_type": "code",
   "execution_count": 28,
   "id": "864540e0-cc44-45ea-9d03-895b3ecb5102",
   "metadata": {},
   "outputs": [
    {
     "name": "stdout",
     "output_type": "stream",
     "text": [
      "Based on the provided data, here are the answers to your questions:\n",
      "\n",
      "1. How many bees are in a colony?\n",
      "A typical bee colony can contain between 20,000 and 80,000 bees.\n",
      "\n",
      "2. Who lays eggs and how much?\n",
      "The queen bee lays up to 2,000 eggs per day during peak seasons.\n",
      "\n",
      "3. What about common pests and diseases?\n",
      "Common pests and diseases that affect bees include varroa mites, hive beetles, and foulbrood.\n",
      "\n",
      " [INFO] ==> The code for model: llama3.2:3b, took 24.1s to generate the answer.\n",
      "\n"
     ]
    }
   ],
   "source": [
    "prompt = \"How many bees are in a colony? Who lays eggs and how much? How about \\\n",
    "          common pests and diseases?\"\n",
    "rag_bees(prompt)"
   ]
  },
  {
   "cell_type": "code",
   "execution_count": 29,
   "id": "f0ea36d6-c663-48af-a1b0-208e9fd3eb2b",
   "metadata": {},
   "outputs": [
    {
     "name": "stdout",
     "output_type": "stream",
     "text": [
      "Sim, existem abelhas no Brasil! De acordo com o relato de Hans Staden, há três espécies de abelhas nativas do Brasil que foram mencionadas: mandaçaia (Melipona quadrifasciata), mandaguari (Scaptotrigona postica) e jataí-amarela (Tetragonisca angustula). Além disso, o Brasil é conhecido por ter mais de 300 espécies diferentes de abelhas, a maioria das quais não é agressiva e não põe veneno.\n",
      "\n",
      " [INFO] ==> The code for model: llama3.2:3b, took 54.6s to generate the answer.\n",
      "\n"
     ]
    }
   ],
   "source": [
    "prompt = \"Existem abelhas no Brazil?\"\n",
    "rag_bees(prompt)"
   ]
  },
  {
   "cell_type": "code",
   "execution_count": 34,
   "id": "809eceb2",
   "metadata": {},
   "outputs": [
    {
     "name": "stdout",
     "output_type": "stream",
     "text": [
      "Sim, existem abelhas no Brasil! De acordo com o relato de Hans Staden, há três espécies de abelhas nativas do Brasil que foram mencionadas: mandaçaia (Melipona quadrifasciata), mandaguari (Scaptotrigona postica) e jataí-amarela (Tetragonisca angustula). Além disso, o Brasil é conhecido por ter mais de 300 espécies diferentes de abelhas, a maioria das quais não é agressiva e não põe veneno.\n",
      "\n",
      " [INFO] ==> The code for model: llama3.2:3b, took 54.1s           to generate the answer.\n",
      "\n"
     ]
    }
   ],
   "source": [
    "prompt = \"Existem abelhas no Brazil?\"\n",
    "rag_bees(prompt)"
   ]
  },
  {
   "cell_type": "code",
   "execution_count": 30,
   "id": "17f8903f-1993-4db0-ae74-4726d1bbc779",
   "metadata": {},
   "outputs": [
    {
     "name": "stdout",
     "output_type": "stream",
     "text": [
      "Existem mais de 300 espécies de abelhas diferentes no Brasil.\n",
      "\n",
      " [INFO] ==> The code for model: llama3.2:3b, took 30.0s to generate the answer.\n",
      "\n"
     ]
    }
   ],
   "source": [
    "prompt = \"Quantas espécies de abelhas existem abelhas no Brazil?\"\n",
    "rag_bees(prompt)"
   ]
  },
  {
   "cell_type": "code",
   "execution_count": 31,
   "id": "4293d0b3-0887-4124-a5c5-f4f1c34afee5",
   "metadata": {},
   "outputs": [
    {
     "name": "stdout",
     "output_type": "stream",
     "text": [
      "Yes, bees are found in Brazil. According to the data, Brazil has more than 300 different bee species, and indigenous people in Brazil used bees for medicine and food purposes. Additionally, reports from 1577 mention three native bees used by indigenous people in Brazil.\n",
      "\n",
      " [INFO] ==> The code for model: llama3.2:3b, took 22.7s to generate the answer.\n",
      "\n"
     ]
    }
   ],
   "source": [
    "prompt = \"Are bees in Brazil?\"\n",
    "rag_bees(prompt)"
   ]
  },
  {
   "cell_type": "code",
   "execution_count": 33,
   "id": "7710157c-d997-4c6a-baf0-400d64b58cb0",
   "metadata": {},
   "outputs": [
    {
     "name": "stdout",
     "output_type": "stream",
     "text": [
      "The most commonly kept species of bees is the European honey bee (Apis mellifera).\n",
      "\n",
      " [INFO] ==> The code for model: llama3.2:3b, took 32.0s           to generate the answer.\n",
      "\n"
     ]
    }
   ],
   "source": [
    "prompt = \"What bees?\"\n",
    "rag_bees(prompt)"
   ]
  },
  {
   "cell_type": "code",
   "execution_count": null,
   "id": "62d9ecd2-2675-4529-8778-194334ab3dbe",
   "metadata": {},
   "outputs": [],
   "source": []
  }
 ],
 "metadata": {
  "kernelspec": {
   "display_name": "Python 3 (ipykernel)",
   "language": "python",
   "name": "python3"
  },
  "language_info": {
   "codemirror_mode": {
    "name": "ipython",
    "version": 3
   },
   "file_extension": ".py",
   "mimetype": "text/x-python",
   "name": "python",
   "nbconvert_exporter": "python",
   "pygments_lexer": "ipython3",
   "version": "3.11.2"
  }
 },
 "nbformat": 4,
 "nbformat_minor": 5
}
